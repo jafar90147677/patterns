{
 "cells": [
  {
   "cell_type": "code",
   "execution_count": 10,
   "metadata": {},
   "outputs": [
    {
     "name": "stdout",
     "output_type": "stream",
     "text": [
      "* * * * * \n",
      "* * * * * \n",
      "* * * * * \n",
      "* * * * * \n",
      "* * * * * \n",
      "* * * * * \n"
     ]
    }
   ],
   "source": [
    "def star(n):\n",
    "    i=int(input())\n",
    "    while n>=0:\n",
    "        print(\"* \"*i)\n",
    "        n-=1\n",
    "star(5)\n"
   ]
  },
  {
   "cell_type": "code",
   "execution_count": 17,
   "metadata": {},
   "outputs": [
    {
     "name": "stdout",
     "output_type": "stream",
     "text": [
      "5 5 5 5 5 \n",
      "4 4 4 4 4 \n",
      "3 3 3 3 3 \n",
      "2 2 2 2 2 \n",
      "1 1 1 1 1 \n"
     ]
    }
   ],
   "source": [
    "def star(n):\n",
    "    i=int(input())\n",
    "    while i>0:\n",
    "        print((str(i)+\" \") * n)\n",
    "        i-=1\n",
    "star(5)\n"
   ]
  },
  {
   "cell_type": "code",
   "execution_count": 36,
   "metadata": {},
   "outputs": [
    {
     "name": "stdout",
     "output_type": "stream",
     "text": [
      "A A A A A \n",
      "B B B B B \n",
      "C C C C C \n",
      "D D D D D \n",
      "E E E E E \n"
     ]
    }
   ],
   "source": [
    "list_1=input().split()\n",
    "def star(n):\n",
    "    i=0\n",
    "    while i<len(list_1):\n",
    "        print((list_1[i]+\" \") * n)\n",
    "        i+=1\n",
    "star(5)"
   ]
  },
  {
   "cell_type": "code",
   "execution_count": 2,
   "metadata": {},
   "outputs": [
    {
     "name": "stdout",
     "output_type": "stream",
     "text": [
      "1 \n",
      "2 2 \n",
      "3 3 3 \n",
      "4 4 4 4 \n",
      "5 5 5 5 5 \n"
     ]
    }
   ],
   "source": [
    "def star_1(n):\n",
    "    i=1\n",
    "    while i<=n:\n",
    "        print((str(i)+\" \")*i)\n",
    "        i+=1\n",
    "n=int(input())\n",
    "star_1(n)"
   ]
  },
  {
   "cell_type": "code",
   "execution_count": 13,
   "metadata": {},
   "outputs": [
    {
     "name": "stdout",
     "output_type": "stream",
     "text": [
      "A\n",
      "A B\n",
      "A B C\n",
      "A B C D\n",
      "A B C D E\n"
     ]
    }
   ],
   "source": [
    "list_1=input().split()\n",
    "b=[]\n",
    "def star(n):\n",
    "    i=0\n",
    "    while i<len(list_1):\n",
    "        b.append(list_1[i])\n",
    "        print(' '.join(b))\n",
    "        i+=1\n",
    "n=int(input())\n",
    "star(5)"
   ]
  },
  {
   "cell_type": "code",
   "execution_count": 17,
   "metadata": {},
   "outputs": [
    {
     "name": "stdout",
     "output_type": "stream",
     "text": [
      "* \n",
      "* * \n",
      "* * * \n",
      "* * * * \n",
      "* * * * * \n"
     ]
    }
   ],
   "source": [
    "def star_2(n):\n",
    "    i= 1\n",
    "    while i <= 10:\n",
    "        print(\"* \"*i)\n",
    "        if i ==5:\n",
    "            break\n",
    "        i +=1\n",
    "n=int(input())\n",
    "star_2(5)"
   ]
  },
  {
   "cell_type": "code",
   "execution_count": 3,
   "metadata": {},
   "outputs": [
    {
     "name": "stdout",
     "output_type": "stream",
     "text": [
      "* * * * * \n",
      "* * * * \n",
      "* * * \n",
      "* * \n",
      "* \n"
     ]
    }
   ],
   "source": [
    "def star_1(n):\n",
    "    i=n\n",
    "    while i>0:\n",
    "        print((\"*\"+\" \")*i)\n",
    "        i-=1\n",
    "n=int(input())\n",
    "star_1(n)"
   ]
  },
  {
   "cell_type": "code",
   "execution_count": 1,
   "metadata": {},
   "outputs": [
    {
     "name": "stdout",
     "output_type": "stream",
     "text": [
      "1 1 1 1 \n",
      "2 2 2 \n",
      "3 3 \n",
      "4 \n",
      "\n"
     ]
    }
   ],
   "source": [
    "def star_6(n):\n",
    "    i=1\n",
    "    while i<=n:\n",
    "        print((str(i)+\" \")*(n-i))\n",
    "        i+=1\n",
    "n=int(input())\n",
    "star_6(n)"
   ]
  },
  {
   "cell_type": "code",
   "execution_count": 31,
   "metadata": {},
   "outputs": [
    {
     "name": "stdout",
     "output_type": "stream",
     "text": [
      "5 4 3 2 1 \n",
      "5 4 3 2 \n",
      "5 4 3 \n",
      "5 4 \n",
      "5 \n"
     ]
    }
   ],
   "source": [
    "def star(n1):\n",
    "    i = n1\n",
    "    while i>=1:\n",
    "        j=n \n",
    "        while j>=(n+1-i):\n",
    "            print(j,end=\" \")\n",
    "            j -=1\n",
    "        print()\n",
    "        i -= 1\n",
    "star(5)"
   ]
  },
  {
   "cell_type": "code",
   "execution_count": 12,
   "metadata": {},
   "outputs": [
    {
     "name": "stdout",
     "output_type": "stream",
     "text": [
      "E D C B A \n",
      "E D C B \n",
      "E D C \n",
      "E D \n",
      "E \n"
     ]
    }
   ],
   "source": [
    "def int_2(n):\n",
    "    alp=64\n",
    "    i=n\n",
    "    while i>=1:\n",
    "        j=n\n",
    "        while j>=(n+1)-i:\n",
    "            print(chr(alp+j),end=\" \")\n",
    "            j -=1\n",
    "        print()\n",
    "        i -=1\n",
    "int_2(5)"
   ]
  },
  {
   "cell_type": "code",
   "execution_count": 11,
   "metadata": {},
   "outputs": [
    {
     "name": "stdout",
     "output_type": "stream",
     "text": [
      "    * \n",
      "   * * \n",
      "  * * * \n",
      " * * * * \n",
      "* * * * * \n"
     ]
    }
   ],
   "source": [
    "def star_per(n):\n",
    "    i=1\n",
    "    while i <= n:\n",
    "        print(\" \"* (n-i)+\"* \"*(i))\n",
    "        i+=1\n",
    "star_per(5)"
   ]
  },
  {
   "cell_type": "code",
   "execution_count": 9,
   "metadata": {},
   "outputs": [
    {
     "name": "stdout",
     "output_type": "stream",
     "text": [
      "    *\n",
      "   **\n",
      "  ***\n",
      " ****\n",
      "*****\n"
     ]
    }
   ],
   "source": [
    "def star_9(n6):\n",
    "    i=1\n",
    "    while i <n6+1:\n",
    "        print(\" \"*(n6-i)+\"*\" * i)\n",
    "        i+=1\n",
    "star_9(5)"
   ]
  },
  {
   "cell_type": "code",
   "execution_count": 12,
   "metadata": {},
   "outputs": [
    {
     "name": "stdout",
     "output_type": "stream",
     "text": [
      "    1\n",
      "   22\n",
      "  333\n",
      " 4444\n",
      "55555\n"
     ]
    }
   ],
   "source": [
    "def star_1(n):\n",
    "    i=1\n",
    "    while i<=n:\n",
    "        print((\" \"*(n-i))+(str(i)*i))\n",
    "        i+=1\n",
    "n=int(input())\n",
    "star_1(n)"
   ]
  },
  {
   "cell_type": "code",
   "execution_count": 4,
   "metadata": {},
   "outputs": [
    {
     "name": "stdout",
     "output_type": "stream",
     "text": [
      "A\n",
      "A B\n",
      "A B C\n",
      "A B C D\n",
      "A B C D E\n"
     ]
    }
   ],
   "source": [
    "list_1=input().split()\n",
    "b=[]\n",
    "def star(n):\n",
    "    i=0\n",
    "    while i<len(list_1):\n",
    "        b.append(list_1[i])\n",
    "        print(' '.join(b))\n",
    "        i+=1\n",
    "n=int(input())\n",
    "star(5)"
   ]
  },
  {
   "cell_type": "code",
   "execution_count": 2,
   "metadata": {},
   "outputs": [],
   "source": [
    "def star_6(rows):\n",
    "    i = 1\n",
    "    while i <= rows:\n",
    "        print(' ' * (rows - i) + '* ' * i)\n",
    "        i -= 1\n",
    "\n",
    "rows = int(input('Please enter the number of rows: '))\n",
    "star_6(rows)\n"
   ]
  },
  {
   "cell_type": "code",
   "execution_count": null,
   "metadata": {},
   "outputs": [],
   "source": []
  }
 ],
 "metadata": {
  "kernelspec": {
   "display_name": "Python 3",
   "language": "python",
   "name": "python3"
  },
  "language_info": {
   "codemirror_mode": {
    "name": "ipython",
    "version": 3
   },
   "file_extension": ".py",
   "mimetype": "text/x-python",
   "name": "python",
   "nbconvert_exporter": "python",
   "pygments_lexer": "ipython3",
   "version": "3.11.7"
  }
 },
 "nbformat": 4,
 "nbformat_minor": 2
}
